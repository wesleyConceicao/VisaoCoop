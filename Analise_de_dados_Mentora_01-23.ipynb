{
 "cells": [
  {
   "cell_type": "code",
   "execution_count": 1,
   "id": "d62af95f",
   "metadata": {},
   "outputs": [],
   "source": [
    "import os\n",
    "import pandas as pd\n",
    "import numpy as np"
   ]
  },
  {
   "cell_type": "markdown",
   "id": "0e370cd1",
   "metadata": {},
   "source": [
    "# Formação Criar jogos \n",
    "---\n",
    "__Tópicos do relatório quinzenal__\n",
    "\n",
    "---\n",
    "1. Análise Geral\n",
    "    O que é importante para eles em relação ao Monitoramento? \n",
    "    Entender em que estágio de aprendizado os alunos estão\n",
    "\n",
    "    Polo BH e Polo Camaçari \n",
    "    entender como os alunos estão se saindo, pois o percurso do polo presencial nesses polos termina no mês de janeiro.\n",
    "    \n",
    "    O que é fundamental:\n",
    "    Saber a quantidade de alunos que concluíram cada módulo\n",
    "    Entender como os alunos estão rendendo por região (quantitativamente);\n",
    "    Mapa com inscritos e cursistas por região (daniel)\n",
    "    uma comparação entre os alunos de camaçari (existem dois polos nessa cidade)\n",
    "---\n",
    "    Tópicos que não precisam estar no próximo relatório\n",
    "    faixa de pontuação;\n",
    "    dado por tempo;\n",
    "    comparação entre polos\n"
   ]
  },
  {
   "cell_type": "markdown",
   "id": "d60e70ff",
   "metadata": {},
   "source": [
    "__Importação dos Dados da Plataforma mentora (Formação Criar Jogos)__"
   ]
  },
  {
   "cell_type": "code",
   "execution_count": 2,
   "id": "20486ca4",
   "metadata": {},
   "outputs": [],
   "source": [
    "path = \"C:\\\\Users\\\\wesle\\\\VisãoCoop\"\n",
    "dados_mentora = pd.read_excel(os.path.join(path,'dados_mentora_110123.xlsx'))\n",
    "\n",
    "dados_mentora = dados_mentora.loc[dados_mentora[\"Role\"] == \"mentee\"]\n",
    "\n",
    "dados_mentora['Email'] = dados_mentora['Email'].str.lower()\n",
    "dados_mentora['Name'] = dados_mentora['Name'].str.lower()\n",
    "\n",
    "dados_mentora.drop(\"Unnamed: 7\", axis = 1, inplace = True)\n"
   ]
  },
  {
   "cell_type": "code",
   "execution_count": null,
   "id": "bb320c82",
   "metadata": {},
   "outputs": [],
   "source": [
    "# dados_mentora.drop_duplicates(subset=['Email'], keep = 'last', inplace = True)"
   ]
  },
  {
   "cell_type": "code",
   "execution_count": 3,
   "id": "b9df67da",
   "metadata": {},
   "outputs": [
    {
     "name": "stdout",
     "output_type": "stream",
     "text": [
      "<class 'pandas.core.frame.DataFrame'>\n",
      "Int64Index: 1198 entries, 0 to 1217\n",
      "Data columns (total 7 columns):\n",
      " #   Column      Non-Null Count  Dtype \n",
      "---  ------      --------------  ----- \n",
      " 0   Member Id   1198 non-null   int64 \n",
      " 1   Name        1198 non-null   object\n",
      " 2   Email       1198 non-null   object\n",
      " 3   Role        1198 non-null   object\n",
      " 4   Points      1198 non-null   int64 \n",
      " 5   Created At  1198 non-null   object\n",
      " 6   Last Login  1198 non-null   object\n",
      "dtypes: int64(2), object(5)\n",
      "memory usage: 74.9+ KB\n"
     ]
    }
   ],
   "source": [
    "dados_mentora.info()"
   ]
  },
  {
   "cell_type": "code",
   "execution_count": 4,
   "id": "3c2386e9",
   "metadata": {},
   "outputs": [
    {
     "data": {
      "text/html": [
       "<div>\n",
       "<style scoped>\n",
       "    .dataframe tbody tr th:only-of-type {\n",
       "        vertical-align: middle;\n",
       "    }\n",
       "\n",
       "    .dataframe tbody tr th {\n",
       "        vertical-align: top;\n",
       "    }\n",
       "\n",
       "    .dataframe thead th {\n",
       "        text-align: right;\n",
       "    }\n",
       "</style>\n",
       "<table border=\"1\" class=\"dataframe\">\n",
       "  <thead>\n",
       "    <tr style=\"text-align: right;\">\n",
       "      <th></th>\n",
       "      <th>Member Id</th>\n",
       "      <th>Name</th>\n",
       "      <th>Email</th>\n",
       "      <th>Role</th>\n",
       "      <th>Points</th>\n",
       "      <th>Created At</th>\n",
       "      <th>Last Login</th>\n",
       "    </tr>\n",
       "  </thead>\n",
       "  <tbody>\n",
       "    <tr>\n",
       "      <th>0</th>\n",
       "      <td>1044</td>\n",
       "      <td>joão vitor dos reis e</td>\n",
       "      <td>00001048795329sp@al.educacao.sp.gov.br</td>\n",
       "      <td>mentee</td>\n",
       "      <td>100</td>\n",
       "      <td>2022-09-07 01:50:51 UTC</td>\n",
       "      <td>2022-09-07 01:50:51 UTC</td>\n",
       "    </tr>\n",
       "  </tbody>\n",
       "</table>\n",
       "</div>"
      ],
      "text/plain": [
       "   Member Id                   Name                                   Email  \\\n",
       "0       1044  joão vitor dos reis e  00001048795329sp@al.educacao.sp.gov.br   \n",
       "\n",
       "     Role  Points               Created At               Last Login  \n",
       "0  mentee     100  2022-09-07 01:50:51 UTC  2022-09-07 01:50:51 UTC  "
      ]
     },
     "execution_count": 4,
     "metadata": {},
     "output_type": "execute_result"
    }
   ],
   "source": [
    "dados_mentora.head(1)"
   ]
  },
  {
   "cell_type": "markdown",
   "id": "dc910a29",
   "metadata": {},
   "source": [
    "__Importação dos dados da plataforma Sympla (Formação Criar Jogos)__"
   ]
  },
  {
   "cell_type": "code",
   "execution_count": 5,
   "id": "3751a268",
   "metadata": {},
   "outputs": [],
   "source": [
    "sympla = pd.read_excel(os.path.join(path,'NÃO MEXER. Formação Online e Presencial - Lista de Participantes.xlsx'))\n",
    "### Correção da Tabela\n",
    "\n",
    "correcao_coluna = sympla.rename(columns=sympla.iloc[0])\n",
    "alunos_inscritos_sympla_formacaoCriarJogos = correcao_coluna.drop([0, 1]).reset_index(drop=True)\n",
    "\n",
    "################################\n",
    "alunos_inscritos_sympla_formacaoCriarJogos.drop([\"Data\",\"Tipo de ingresso\",\"Nº\",\"Endereço\",\"Compl.\",\"Bairro\",\"TEL\",\"RG ou CPF\",\"É indicação, filho (a) ou parente de algum dos patrocinadores do projeto?\"], axis = 1, inplace = True)\n",
    "\n",
    "# alunos_inscritos_sympla_formacaoCriarJogos = alunos_inscritos_sympla_formacaoCriarJogos.loc[dados_mentora[\"Role\"] == \"mentee\"]\n"
   ]
  },
  {
   "cell_type": "code",
   "execution_count": 6,
   "id": "573c3957",
   "metadata": {},
   "outputs": [
    {
     "name": "stdout",
     "output_type": "stream",
     "text": [
      "<class 'pandas.core.frame.DataFrame'>\n",
      "RangeIndex: 2820 entries, 0 to 2819\n",
      "Data columns (total 33 columns):\n",
      " #   Column                                                                              Non-Null Count  Dtype  \n",
      "---  ------                                                                              --------------  -----  \n",
      " 0   nan                                                                                 2820 non-null   float64\n",
      " 1   nan                                                                                 2820 non-null   object \n",
      " 2   Nome                                                                                2820 non-null   object \n",
      " 3   Sobrenome                                                                           2820 non-null   object \n",
      " 4   nan                                                                                 2814 non-null   object \n",
      " 5   nan                                                                                 2814 non-null   object \n",
      " 6   Email                                                                               2699 non-null   object \n",
      " 7   nan                                                                                 2814 non-null   object \n",
      " 8   nan                                                                                 2622 non-null   object \n",
      " 9   nan                                                                                 1 non-null      object \n",
      " 10  nan                                                                                 2622 non-null   object \n",
      " 11  Rua                                                                                 2813 non-null   object \n",
      " 12  CEP                                                                                 2814 non-null   object \n",
      " 13  Cidade                                                                              2814 non-null   object \n",
      " 14  Estado                                                                              2814 non-null   object \n",
      " 15  Gênero                                                                              2814 non-null   object \n",
      " 16  Faixa etária                                                                        2814 non-null   object \n",
      " 17  Escolaridade                                                                        2814 non-null   object \n",
      " 18  Renda familiar mensal                                                               2814 non-null   object \n",
      " 19  Escola pública ou particular                                                        2309 non-null   object \n",
      " 20  Nome da escola                                                                      2298 non-null   object \n",
      " 21  cor/raça/etnia                                                                      2814 non-null   object \n",
      " 22  Formato do curso                                                                    2813 non-null   object \n",
      " 23  Polo Presencial São Gonçalo dos Campos (BA) | Biblioteca Municipal Aníbal Pedreira  180 non-null    object \n",
      " 24  Polo Presencial São Gonçalo dos Campos (BA) | Colégio Mun. Agripina de L Pedreira   177 non-null    object \n",
      " 25  Polo Presencial Mogi Guaçu (SP) | CEGEP                                             197 non-null    object \n",
      " 26  Polo Presencial Belo Horizonte (MG) - Instituto BH Futuro                           223 non-null    object \n",
      " 27  Polo Presencial Camaçari (BA) | UFBA                                                154 non-null    object \n",
      " 28  Polo Presencial Camaçari (BA) | CIAT                                                81 non-null     object \n",
      " 29  Você possui alguma deficiência? Se sim, qual?                                       2814 non-null   object \n",
      " 30  Como ficou sabendo do projeto?                                                      2812 non-null   object \n",
      " 31  AUTORIZAÇÃO PARA GRAVAÇÃO DE ÁUDIO, USO DE IMAGEM, EXIBIÇÃO PÚBLICA                 2814 non-null   object \n",
      " 32  nan                                                                                 9 non-null      object \n",
      "dtypes: float64(1), object(32)\n",
      "memory usage: 727.2+ KB\n"
     ]
    }
   ],
   "source": [
    "alunos_inscritos_sympla_formacaoCriarJogos.info()"
   ]
  },
  {
   "cell_type": "code",
   "execution_count": 7,
   "id": "1cf91a7b",
   "metadata": {},
   "outputs": [],
   "source": [
    "dados_sympla_corrigido = pd.DataFrame({\n",
    "                        \"Email\":alunos_inscritos_sympla_formacaoCriarJogos['Email'].str.lower(),\n",
    "                        'Endereço':alunos_inscritos_sympla_formacaoCriarJogos['Rua'],\n",
    "                        'Cidade':alunos_inscritos_sympla_formacaoCriarJogos['Cidade'],\n",
    "                        'Estado':alunos_inscritos_sympla_formacaoCriarJogos['Estado'],\n",
    "                        'Gênero':alunos_inscritos_sympla_formacaoCriarJogos['Gênero'],\n",
    "                        'Faixa etária':alunos_inscritos_sympla_formacaoCriarJogos['Faixa etária'],\n",
    "                        'Escola pública ou particular':alunos_inscritos_sympla_formacaoCriarJogos['Escola pública ou particular'],\n",
    "                        'Escola':alunos_inscritos_sympla_formacaoCriarJogos['Nome da escola'],\n",
    "                        'Escolaridade':alunos_inscritos_sympla_formacaoCriarJogos['Escolaridade'],\n",
    "                        'Renda familiar mensal':alunos_inscritos_sympla_formacaoCriarJogos['Renda familiar mensal'],\n",
    "                        'cor/raça/etnia':alunos_inscritos_sympla_formacaoCriarJogos['cor/raça/etnia'],\n",
    "                        'Formato do curso':alunos_inscritos_sympla_formacaoCriarJogos['Formato do curso'],\n",
    "                        'Polo Presencial São Gonçalo dos Campos (BA) - Biblioteca Municipal Aníbal Pedreira':alunos_inscritos_sympla_formacaoCriarJogos['Polo Presencial São Gonçalo dos Campos (BA) | Biblioteca Municipal Aníbal Pedreira'],\n",
    "                        'Polo Presencial São Gonçalo dos Campos (BA) - Colégio Mun. Agripina de L Pedreira':alunos_inscritos_sympla_formacaoCriarJogos['Polo Presencial São Gonçalo dos Campos (BA) | Colégio Mun. Agripina de L Pedreira'],\n",
    "                        'Polo Presencial Mogi Guaçu (SP) - CEGEP':alunos_inscritos_sympla_formacaoCriarJogos['Polo Presencial Mogi Guaçu (SP) | CEGEP'],\n",
    "                        'Polo Presencial Belo Horizonte (MG) - Instituto BH Futuro':alunos_inscritos_sympla_formacaoCriarJogos['Polo Presencial Belo Horizonte (MG) - Instituto BH Futuro'],\n",
    "                        'Polo Presencial Camaçari (BA) - UFBA':alunos_inscritos_sympla_formacaoCriarJogos['Polo Presencial Camaçari (BA) | UFBA'],\n",
    "                        'Polo Presencial Camaçari (BA) - CIAT':alunos_inscritos_sympla_formacaoCriarJogos['Polo Presencial Camaçari (BA) | CIAT'],\n",
    "                        'Você possui alguma deficiência?':alunos_inscritos_sympla_formacaoCriarJogos['Você possui alguma deficiência? Se sim, qual?'],\n",
    "                        'Como ficou sabendo do projeto?':alunos_inscritos_sympla_formacaoCriarJogos['Como ficou sabendo do projeto?']}).sort_values(by='Email')\n",
    "\n",
    "                  "
   ]
  },
  {
   "cell_type": "markdown",
   "id": "6e17ca89",
   "metadata": {},
   "source": [
    "__Mescla dos dados e Limpeza dos dados (Formação Criar Jogos)__"
   ]
  },
  {
   "cell_type": "code",
   "execution_count": 8,
   "id": "71aafe5c",
   "metadata": {},
   "outputs": [
    {
     "name": "stdout",
     "output_type": "stream",
     "text": [
      "['Não' 'Autismo' 'Auditiva' 'Sim, Discalculia'\n",
      " 'Sim, amputação no braço direito nivel do cotovelo' 'Sim, Tetraparisia'\n",
      " 'Visual' 'Nao.' 'Sim, TDAH e Dislexia' 'Fisica' 'Sim' 'TDA/TDAH'\n",
      " 'Sim, auditiva' 'nenhuma'\n",
      " 'Sim, Desgaste na coluna, ocasionado na última empresa Mahle por esforço repetitivo, me causou insônia grave na época, até hoje tomo remédios psiquiátricos'\n",
      " 'Sim, Disturbio de Processamento Auditivo, Déficit de Atenção e Dislexia'\n",
      " 'Síndrome de Aspanger' 'Sim, Múltiplas'\n",
      " 'Sim, Leve dificuldade nas pernas' 'Ennceja'\n",
      " 'Déficit de atenção e hiperatividade' 'Sim, TDAH e Autismo'\n",
      " 'Sim, Paralisia Cerebral' 'Jogo' 'Sim, Hemiplegia espástica à direita'\n",
      " 'Sim, paralisia plexo braquial' 'Deficiência física'\n",
      " 'Sim, deficiente adiquirida, membro inferior direito.' 'Autimo'\n",
      " 'Não tenho deficiência.' 'Deficiencia Auditiva' 'Sim. Física' nan\n",
      " 'Sim, deficiência fisica']\n",
      "Não                                                                                                                                                           2719\n",
      "Autismo                                                                                                                                                         25\n",
      "Visual                                                                                                                                                          12\n",
      "TDA/TDAH                                                                                                                                                         8\n",
      "Auditiva                                                                                                                                                         6\n",
      "Fisica                                                                                                                                                           6\n",
      "Sim                                                                                                                                                              5\n",
      "Sim, TDAH e Dislexia                                                                                                                                             3\n",
      "nenhuma                                                                                                                                                          2\n",
      "Sim, auditiva                                                                                                                                                    2\n",
      "Sim, Múltiplas                                                                                                                                                   2\n",
      "Sim, TDAH e Autismo                                                                                                                                              2\n",
      "Sim, Paralisia Cerebral                                                                                                                                          2\n",
      "Não tenho deficiência.                                                                                                                                           1\n",
      "Sim, deficiente adiquirida, membro inferior direito.                                                                                                             1\n",
      "Deficiência física                                                                                                                                               1\n",
      "Autimo                                                                                                                                                           1\n",
      "Sim. Física                                                                                                                                                      1\n",
      "Sim, paralisia plexo braquial                                                                                                                                    1\n",
      "Sim, Hemiplegia espástica à direita                                                                                                                              1\n",
      "Jogo                                                                                                                                                             1\n",
      "Deficiencia Auditiva                                                                                                                                             1\n",
      "Síndrome de Aspanger                                                                                                                                             1\n",
      "Déficit de atenção e hiperatividade                                                                                                                              1\n",
      "Ennceja                                                                                                                                                          1\n",
      "Sim, Leve dificuldade nas pernas                                                                                                                                 1\n",
      "Sim, Disturbio de Processamento Auditivo, Déficit de Atenção e Dislexia                                                                                          1\n",
      "Sim, Desgaste na coluna, ocasionado na última empresa Mahle por esforço repetitivo, me causou insônia grave na época, até hoje tomo remédios psiquiátricos       1\n",
      "Nao.                                                                                                                                                             1\n",
      "Sim, Tetraparisia                                                                                                                                                1\n",
      "Sim, amputação no braço direito nivel do cotovelo                                                                                                                1\n",
      "Sim, Discalculia                                                                                                                                                 1\n",
      "Sim, deficiência fisica                                                                                                                                          1\n",
      "Name: Você possui alguma deficiência?, dtype: int64\n"
     ]
    }
   ],
   "source": [
    "value = \"Você possui alguma deficiência?\"\n",
    "\n",
    "# Modificando redundâncias no df\n",
    "dados_sympla_corrigido[value] = dados_sympla_corrigido[value].apply(\n",
    "  lambda value : \"Não\" if value == \"Nao\" or value == \"nao\" or value == \"não\" or\n",
    "                          value == \"Não possuo deficiência\" or value == \"Não.\" or\n",
    "                          value == \"Não possuo nenhuma deficiência\" or value == \"NÃO\" or value == \"não tenho\" or \n",
    "                          value == \"Bão\" or value == \"Nope\" or  value == \"Não tenho\" or \n",
    "                          value == \"NAO\" or value == \"Nenhuma\" or value == \"N possui\" or\n",
    "                          value == \"não possuo deficiência\" or value == \"n\" or value == \"Não possuo nenhum tipo de deficiência.\" or\n",
    "                          value == \"Nenhuma.\" or value == \"Nao possuo\" or value == \"nÃO\" or\n",
    "                          value == \"Não tenho.\" or value == \"N\" or value == \"Ñ\" or\n",
    "                          value == \"Não possuo\" or value == \"não.\" or value == \"não possuo\" or\n",
    "                          value == \"Não possuo.\" or value == \"Nenhum\" else \n",
    "                (\"Tetraparalisia\" if value == \"Tetraparisia\" else\n",
    "                (\"Sim\" if value == \"Sim\" or value == \"sim\" else \n",
    "                (\"Autismo\" if value == \"Autismo / Síndrome de Asperger\" or \n",
    "                              value == \"Altismo\" or value == \"Autista\" or\n",
    "                              value == \"Autismo leve\" or value == \"Sim. Autismo.\" or\n",
    "                              value == \"AUTISTA\" or value == \"Sim,Autismo\" or value == \"Sim, Autismo\" or\n",
    "                              value == \"sim,sou autista moderado\" or value == \"Sim, Autismo.\" else \n",
    "                 (\"TDA/TDAH\" if value == \"Tdah\" or value == \"TDA\" or value == \"Sim, TDAH\" else\n",
    "                 (\"Visual\" if value == \"Visual\" or value == \"sim, visão\" or value == \"Sim, baixa acuidade\" or value == \"Sim, Visual\" else\n",
    "                 (\"Fisica\" if value == \"Fisica\" or value == \"Cadeirante, dificuldade motora\" or \n",
    "                  value == \"Atrofia Muscular Espinhal Tipo 2\" or value == \"Sim, Atrofia Muscular Espinhal Tipo 2\" or value == \"Sim, Sindactilia e perda de um membro na mão esquerda\" or value == \"Sim, Física\" or value == \"Sim, Cadeirante, dificuldade motora\" else\n",
    "                 (\"Auditiva\" if value == \"Deficiência auditiva\" or value == \"Sim , Auditiva,mas faço uso de Implante Coclear e ouço bem e compreendo o que falam\" or value == \"Sim, Auditiva\" else value))))))))\n",
    "\n",
    "print(dados_sympla_corrigido[value].unique())\n",
    "count_values = dados_sympla_corrigido[value].value_counts()\n",
    "print(count_values)"
   ]
  },
  {
   "cell_type": "code",
   "execution_count": 9,
   "id": "932ffdf9",
   "metadata": {},
   "outputs": [
    {
     "name": "stdout",
     "output_type": "stream",
     "text": [
      "<class 'pandas.core.frame.DataFrame'>\n",
      "Int64Index: 2820 entries, 1601 to 2678\n",
      "Data columns (total 20 columns):\n",
      " #   Column                                                                              Non-Null Count  Dtype \n",
      "---  ------                                                                              --------------  ----- \n",
      " 0   Email                                                                               2699 non-null   object\n",
      " 1   Endereço                                                                            2813 non-null   object\n",
      " 2   Cidade                                                                              2814 non-null   object\n",
      " 3   Estado                                                                              2814 non-null   object\n",
      " 4   Gênero                                                                              2814 non-null   object\n",
      " 5   Faixa etária                                                                        2814 non-null   object\n",
      " 6   Escola pública ou particular                                                        2309 non-null   object\n",
      " 7   Escola                                                                              2298 non-null   object\n",
      " 8   Escolaridade                                                                        2814 non-null   object\n",
      " 9   Renda familiar mensal                                                               2814 non-null   object\n",
      " 10  cor/raça/etnia                                                                      2814 non-null   object\n",
      " 11  Formato do curso                                                                    2813 non-null   object\n",
      " 12  Polo Presencial São Gonçalo dos Campos (BA) - Biblioteca Municipal Aníbal Pedreira  180 non-null    object\n",
      " 13  Polo Presencial São Gonçalo dos Campos (BA) - Colégio Mun. Agripina de L Pedreira   177 non-null    object\n",
      " 14  Polo Presencial Mogi Guaçu (SP) - CEGEP                                             197 non-null    object\n",
      " 15  Polo Presencial Belo Horizonte (MG) - Instituto BH Futuro                           223 non-null    object\n",
      " 16  Polo Presencial Camaçari (BA) - UFBA                                                154 non-null    object\n",
      " 17  Polo Presencial Camaçari (BA) - CIAT                                                81 non-null     object\n",
      " 18  Você possui alguma deficiência?                                                     2814 non-null   object\n",
      " 19  Como ficou sabendo do projeto?                                                      2812 non-null   object\n",
      "dtypes: object(20)\n",
      "memory usage: 462.7+ KB\n"
     ]
    }
   ],
   "source": [
    "dados_sympla_corrigido.info()"
   ]
  },
  {
   "cell_type": "code",
   "execution_count": 10,
   "id": "43a12078",
   "metadata": {},
   "outputs": [],
   "source": [
    "dados_sympla_corrigido.dropna(subset=[\"Email\"], inplace = True)"
   ]
  },
  {
   "cell_type": "code",
   "execution_count": 11,
   "id": "c86f9db0",
   "metadata": {},
   "outputs": [
    {
     "name": "stdout",
     "output_type": "stream",
     "text": [
      "<class 'pandas.core.frame.DataFrame'>\n",
      "Int64Index: 2699 entries, 1601 to 2447\n",
      "Data columns (total 20 columns):\n",
      " #   Column                                                                              Non-Null Count  Dtype \n",
      "---  ------                                                                              --------------  ----- \n",
      " 0   Email                                                                               2699 non-null   object\n",
      " 1   Endereço                                                                            2698 non-null   object\n",
      " 2   Cidade                                                                              2699 non-null   object\n",
      " 3   Estado                                                                              2699 non-null   object\n",
      " 4   Gênero                                                                              2699 non-null   object\n",
      " 5   Faixa etária                                                                        2699 non-null   object\n",
      " 6   Escola pública ou particular                                                        2207 non-null   object\n",
      " 7   Escola                                                                              2196 non-null   object\n",
      " 8   Escolaridade                                                                        2699 non-null   object\n",
      " 9   Renda familiar mensal                                                               2699 non-null   object\n",
      " 10  cor/raça/etnia                                                                      2699 non-null   object\n",
      " 11  Formato do curso                                                                    2699 non-null   object\n",
      " 12  Polo Presencial São Gonçalo dos Campos (BA) - Biblioteca Municipal Aníbal Pedreira  157 non-null    object\n",
      " 13  Polo Presencial São Gonçalo dos Campos (BA) - Colégio Mun. Agripina de L Pedreira   161 non-null    object\n",
      " 14  Polo Presencial Mogi Guaçu (SP) - CEGEP                                             189 non-null    object\n",
      " 15  Polo Presencial Belo Horizonte (MG) - Instituto BH Futuro                           201 non-null    object\n",
      " 16  Polo Presencial Camaçari (BA) - UFBA                                                141 non-null    object\n",
      " 17  Polo Presencial Camaçari (BA) - CIAT                                                79 non-null     object\n",
      " 18  Você possui alguma deficiência?                                                     2699 non-null   object\n",
      " 19  Como ficou sabendo do projeto?                                                      2699 non-null   object\n",
      "dtypes: object(20)\n",
      "memory usage: 442.8+ KB\n"
     ]
    }
   ],
   "source": [
    "dados_sympla_corrigido.info()"
   ]
  },
  {
   "cell_type": "code",
   "execution_count": 12,
   "id": "9d5d46d5",
   "metadata": {},
   "outputs": [],
   "source": [
    "dados_sympla_corrigido.drop_duplicates(subset=['Email'], keep = 'first', inplace = True)"
   ]
  },
  {
   "cell_type": "code",
   "execution_count": 13,
   "id": "f034fe3c",
   "metadata": {},
   "outputs": [
    {
     "name": "stdout",
     "output_type": "stream",
     "text": [
      "<class 'pandas.core.frame.DataFrame'>\n",
      "Int64Index: 2658 entries, 1601 to 2447\n",
      "Data columns (total 20 columns):\n",
      " #   Column                                                                              Non-Null Count  Dtype \n",
      "---  ------                                                                              --------------  ----- \n",
      " 0   Email                                                                               2658 non-null   object\n",
      " 1   Endereço                                                                            2658 non-null   object\n",
      " 2   Cidade                                                                              2658 non-null   object\n",
      " 3   Estado                                                                              2658 non-null   object\n",
      " 4   Gênero                                                                              2658 non-null   object\n",
      " 5   Faixa etária                                                                        2658 non-null   object\n",
      " 6   Escola pública ou particular                                                        2169 non-null   object\n",
      " 7   Escola                                                                              2159 non-null   object\n",
      " 8   Escolaridade                                                                        2658 non-null   object\n",
      " 9   Renda familiar mensal                                                               2658 non-null   object\n",
      " 10  cor/raça/etnia                                                                      2658 non-null   object\n",
      " 11  Formato do curso                                                                    2658 non-null   object\n",
      " 12  Polo Presencial São Gonçalo dos Campos (BA) - Biblioteca Municipal Aníbal Pedreira  157 non-null    object\n",
      " 13  Polo Presencial São Gonçalo dos Campos (BA) - Colégio Mun. Agripina de L Pedreira   155 non-null    object\n",
      " 14  Polo Presencial Mogi Guaçu (SP) - CEGEP                                             186 non-null    object\n",
      " 15  Polo Presencial Belo Horizonte (MG) - Instituto BH Futuro                           189 non-null    object\n",
      " 16  Polo Presencial Camaçari (BA) - UFBA                                                141 non-null    object\n",
      " 17  Polo Presencial Camaçari (BA) - CIAT                                                78 non-null     object\n",
      " 18  Você possui alguma deficiência?                                                     2658 non-null   object\n",
      " 19  Como ficou sabendo do projeto?                                                      2658 non-null   object\n",
      "dtypes: object(20)\n",
      "memory usage: 436.1+ KB\n"
     ]
    }
   ],
   "source": [
    "dados_sympla_corrigido.info()"
   ]
  },
  {
   "cell_type": "code",
   "execution_count": 18,
   "id": "508912e8",
   "metadata": {},
   "outputs": [],
   "source": [
    "alunos_mentora_sympla = dados_mentora.merge(dados_sympla_corrigido, how = 'left', on = 'Email')"
   ]
  },
  {
   "cell_type": "code",
   "execution_count": 20,
   "id": "0cd32a0b",
   "metadata": {},
   "outputs": [
    {
     "name": "stdout",
     "output_type": "stream",
     "text": [
      "<class 'pandas.core.frame.DataFrame'>\n",
      "Int64Index: 1198 entries, 0 to 1197\n",
      "Data columns (total 26 columns):\n",
      " #   Column                                                                              Non-Null Count  Dtype \n",
      "---  ------                                                                              --------------  ----- \n",
      " 0   Member Id                                                                           1198 non-null   int64 \n",
      " 1   Name                                                                                1198 non-null   object\n",
      " 2   Email                                                                               1198 non-null   object\n",
      " 3   Role                                                                                1198 non-null   object\n",
      " 4   Points                                                                              1198 non-null   int64 \n",
      " 5   Created At                                                                          1198 non-null   object\n",
      " 6   Last Login                                                                          1198 non-null   object\n",
      " 7   Endereço                                                                            1097 non-null   object\n",
      " 8   Cidade                                                                              1097 non-null   object\n",
      " 9   Estado                                                                              1097 non-null   object\n",
      " 10  Gênero                                                                              1097 non-null   object\n",
      " 11  Faixa etária                                                                        1097 non-null   object\n",
      " 12  Escola pública ou particular                                                        869 non-null    object\n",
      " 13  Escola                                                                              862 non-null    object\n",
      " 14  Escolaridade                                                                        1097 non-null   object\n",
      " 15  Renda familiar mensal                                                               1097 non-null   object\n",
      " 16  cor/raça/etnia                                                                      1097 non-null   object\n",
      " 17  Formato do curso                                                                    1097 non-null   object\n",
      " 18  Polo Presencial São Gonçalo dos Campos (BA) - Biblioteca Municipal Aníbal Pedreira  75 non-null     object\n",
      " 19  Polo Presencial São Gonçalo dos Campos (BA) - Colégio Mun. Agripina de L Pedreira   67 non-null     object\n",
      " 20  Polo Presencial Mogi Guaçu (SP) - CEGEP                                             81 non-null     object\n",
      " 21  Polo Presencial Belo Horizonte (MG) - Instituto BH Futuro                           66 non-null     object\n",
      " 22  Polo Presencial Camaçari (BA) - UFBA                                                59 non-null     object\n",
      " 23  Polo Presencial Camaçari (BA) - CIAT                                                36 non-null     object\n",
      " 24  Você possui alguma deficiência?                                                     1097 non-null   object\n",
      " 25  Como ficou sabendo do projeto?                                                      1097 non-null   object\n",
      "dtypes: int64(2), object(24)\n",
      "memory usage: 252.7+ KB\n"
     ]
    }
   ],
   "source": [
    "alunos_mentora_sympla.info()"
   ]
  },
  {
   "cell_type": "code",
   "execution_count": 19,
   "id": "9e0ab38d",
   "metadata": {},
   "outputs": [
    {
     "data": {
      "text/html": [
       "<div>\n",
       "<style scoped>\n",
       "    .dataframe tbody tr th:only-of-type {\n",
       "        vertical-align: middle;\n",
       "    }\n",
       "\n",
       "    .dataframe tbody tr th {\n",
       "        vertical-align: top;\n",
       "    }\n",
       "\n",
       "    .dataframe thead th {\n",
       "        text-align: right;\n",
       "    }\n",
       "</style>\n",
       "<table border=\"1\" class=\"dataframe\">\n",
       "  <thead>\n",
       "    <tr style=\"text-align: right;\">\n",
       "      <th></th>\n",
       "      <th>Member Id</th>\n",
       "      <th>Name</th>\n",
       "      <th>Email</th>\n",
       "      <th>Role</th>\n",
       "      <th>Points</th>\n",
       "      <th>Created At</th>\n",
       "      <th>Last Login</th>\n",
       "      <th>Endereço</th>\n",
       "      <th>Cidade</th>\n",
       "      <th>Estado</th>\n",
       "      <th>...</th>\n",
       "      <th>cor/raça/etnia</th>\n",
       "      <th>Formato do curso</th>\n",
       "      <th>Polo Presencial São Gonçalo dos Campos (BA) - Biblioteca Municipal Aníbal Pedreira</th>\n",
       "      <th>Polo Presencial São Gonçalo dos Campos (BA) - Colégio Mun. Agripina de L Pedreira</th>\n",
       "      <th>Polo Presencial Mogi Guaçu (SP) - CEGEP</th>\n",
       "      <th>Polo Presencial Belo Horizonte (MG) - Instituto BH Futuro</th>\n",
       "      <th>Polo Presencial Camaçari (BA) - UFBA</th>\n",
       "      <th>Polo Presencial Camaçari (BA) - CIAT</th>\n",
       "      <th>Você possui alguma deficiência?</th>\n",
       "      <th>Como ficou sabendo do projeto?</th>\n",
       "    </tr>\n",
       "  </thead>\n",
       "  <tbody>\n",
       "    <tr>\n",
       "      <th>0</th>\n",
       "      <td>1044</td>\n",
       "      <td>joão vitor dos reis e</td>\n",
       "      <td>00001048795329sp@al.educacao.sp.gov.br</td>\n",
       "      <td>mentee</td>\n",
       "      <td>100</td>\n",
       "      <td>2022-09-07 01:50:51 UTC</td>\n",
       "      <td>2022-09-07 01:50:51 UTC</td>\n",
       "      <td>Antonio Cazemiro da Silva</td>\n",
       "      <td>Mogi Guaçu</td>\n",
       "      <td>SP</td>\n",
       "      <td>...</td>\n",
       "      <td>Parda</td>\n",
       "      <td>Online (quero assistir as aulas de casa, do me...</td>\n",
       "      <td>NaN</td>\n",
       "      <td>NaN</td>\n",
       "      <td>NaN</td>\n",
       "      <td>NaN</td>\n",
       "      <td>NaN</td>\n",
       "      <td>NaN</td>\n",
       "      <td>Não</td>\n",
       "      <td>Indicação de amigo ou parente</td>\n",
       "    </tr>\n",
       "  </tbody>\n",
       "</table>\n",
       "<p>1 rows × 26 columns</p>\n",
       "</div>"
      ],
      "text/plain": [
       "   Member Id                   Name                                   Email  \\\n",
       "0       1044  joão vitor dos reis e  00001048795329sp@al.educacao.sp.gov.br   \n",
       "\n",
       "     Role  Points               Created At               Last Login  \\\n",
       "0  mentee     100  2022-09-07 01:50:51 UTC  2022-09-07 01:50:51 UTC   \n",
       "\n",
       "                    Endereço      Cidade Estado  ... cor/raça/etnia  \\\n",
       "0  Antonio Cazemiro da Silva  Mogi Guaçu     SP  ...          Parda   \n",
       "\n",
       "                                    Formato do curso  \\\n",
       "0  Online (quero assistir as aulas de casa, do me...   \n",
       "\n",
       "  Polo Presencial São Gonçalo dos Campos (BA) - Biblioteca Municipal Aníbal Pedreira  \\\n",
       "0                                                NaN                                   \n",
       "\n",
       "  Polo Presencial São Gonçalo dos Campos (BA) - Colégio Mun. Agripina de L Pedreira  \\\n",
       "0                                                NaN                                  \n",
       "\n",
       "  Polo Presencial Mogi Guaçu (SP) - CEGEP  \\\n",
       "0                                     NaN   \n",
       "\n",
       "  Polo Presencial Belo Horizonte (MG) - Instituto BH Futuro  \\\n",
       "0                                                NaN          \n",
       "\n",
       "  Polo Presencial Camaçari (BA) - UFBA Polo Presencial Camaçari (BA) - CIAT  \\\n",
       "0                                  NaN                                  NaN   \n",
       "\n",
       "  Você possui alguma deficiência? Como ficou sabendo do projeto?  \n",
       "0                             Não  Indicação de amigo ou parente  \n",
       "\n",
       "[1 rows x 26 columns]"
      ]
     },
     "execution_count": 19,
     "metadata": {},
     "output_type": "execute_result"
    }
   ],
   "source": [
    "alunos_mentora_sympla.head(1)"
   ]
  },
  {
   "cell_type": "markdown",
   "id": "41f75232",
   "metadata": {},
   "source": [
    " __Tratamento do tempo de progresso dos alunos em dias (Formação Criar Jogos)__ "
   ]
  },
  {
   "cell_type": "markdown",
   "id": "a76f96f1",
   "metadata": {},
   "source": [
    "### Importação dos dados referente ao módulo dos alunos (Formação Criar Jogos)"
   ]
  },
  {
   "cell_type": "code",
   "execution_count": 21,
   "id": "5af3b21e",
   "metadata": {},
   "outputs": [],
   "source": [
    "caminho = \"C:\\\\Users\\\\wesle\\\\VisãoCoop\\\\dados_FCriarJogos\""
   ]
  },
  {
   "cell_type": "code",
   "execution_count": 22,
   "id": "0346e983",
   "metadata": {},
   "outputs": [],
   "source": [
    "modulo_Alfabetização_Digital = pd.read_excel(os.path.join(caminho,\"Alfabetização Digital - Formação Criar Jogos.xlsx\"))\n",
    "modulo_Cultura_de_Jogos = pd.read_excel(os.path.join(caminho,\"Cultura de Jogos - Formação Criar Jogos.xlsx\"))\n",
    "modulo_Roteiro_e_Narrativa = pd.read_excel(os.path.join(caminho,\"Roteiro e Narrativa - Formação Criar Jogos.xlsx\"))\n",
    "modulo_Programação = pd.read_excel(os.path.join(caminho,\"Programação - Formação Criar Jogos.xlsx\"))\n",
    "modulo_Edição_de_Som = pd.read_excel(os.path.join(caminho,\"Edição de Som - Formação Criar Jogos.xlsx\"))\n",
    "modulo_Game_Design = pd.read_excel(os.path.join(caminho,\"Game Design - Formação Criar Jogos.xlsx\"))\n",
    "modulo_Arte_e_Interface = pd.read_excel(os.path.join(caminho,\"Arte e Interface - Formação Criar Jogos.xlsx\"))\n",
    "modulo_Protótipo = pd.read_excel(os.path.join(caminho,\"Protótipo - Formação Criar Jogos.xlsx\"))\n",
    "modulo_Temporada_Ferias = pd.read_excel(os.path.join(path,\"Temporada de Férias - Mercado de Games.xlsx\"))"
   ]
  },
  {
   "cell_type": "code",
   "execution_count": 23,
   "id": "250d536d",
   "metadata": {},
   "outputs": [],
   "source": [
    "modulo_Alfabetização_Digital['Email'] = modulo_Alfabetização_Digital['Email'].str.lower()\n",
    "modulo_Cultura_de_Jogos['Email'] = modulo_Cultura_de_Jogos['Email'].str.lower()\n",
    "modulo_Roteiro_e_Narrativa['Email'] = modulo_Roteiro_e_Narrativa['Email'].str.lower()\n",
    "modulo_Programação['Email'] = modulo_Programação['Email'].str.lower()\n",
    "modulo_Edição_de_Som['Email'] = modulo_Edição_de_Som['Email'].str.lower()\n",
    "modulo_Game_Design['Email'] = modulo_Game_Design['Email'].str.lower()\n",
    "modulo_Arte_e_Interface['Email'] = modulo_Arte_e_Interface['Email'].str.lower()\n",
    "modulo_Protótipo['Email'] = modulo_Protótipo['Email'].str.lower()\n",
    "modulo_Temporada_Ferias['Email'] = modulo_Temporada_Ferias['Email'].str.lower()"
   ]
  },
  {
   "cell_type": "code",
   "execution_count": 24,
   "id": "6da32f5b",
   "metadata": {},
   "outputs": [],
   "source": [
    "alunos_modulo_Alfabetização_Digital = dados_sympla_corrigido.merge(modulo_Alfabetização_Digital,how = 'right', on = 'Email')\n",
    "alunos_modulo_Cultura_de_Jogos = dados_sympla_corrigido.merge(modulo_Cultura_de_Jogos,how = 'right', on = 'Email')\n",
    "alunos_modulo_Roteiro_e_Narrativa = dados_sympla_corrigido.merge(modulo_Roteiro_e_Narrativa,how = 'right', on = 'Email')\n",
    "alunos_modulo_Programação = dados_sympla_corrigido.merge(modulo_Programação,how = 'right', on = 'Email')\n",
    "alunos_modulo_Edição_de_Som = dados_sympla_corrigido.merge(modulo_Edição_de_Som,how = 'right', on = 'Email')\n",
    "alunos_modulo_Game_Design = dados_sympla_corrigido.merge(modulo_Game_Design,how = 'right', on = 'Email')\n",
    "alunos_modulo_Arte_e_Interface = dados_sympla_corrigido.merge(modulo_Arte_e_Interface,how = 'right', on = 'Email')\n",
    "alunos_modulo_Protótipo = dados_sympla_corrigido.merge(modulo_Protótipo,how = 'right', on = 'Email')                   \n",
    "alunos_modulo_Temporada_Ferias = dados_sympla_corrigido.merge(modulo_Temporada_Ferias,how = 'right', on = 'Email')                   "
   ]
  },
  {
   "cell_type": "code",
   "execution_count": 25,
   "id": "51a91ad5",
   "metadata": {},
   "outputs": [
    {
     "name": "stdout",
     "output_type": "stream",
     "text": [
      "<class 'pandas.core.frame.DataFrame'>\n",
      "Int64Index: 1196 entries, 0 to 1195\n",
      "Data columns (total 28 columns):\n",
      " #   Column                                                                              Non-Null Count  Dtype \n",
      "---  ------                                                                              --------------  ----- \n",
      " 0   Email                                                                               1196 non-null   object\n",
      " 1   Endereço                                                                            1099 non-null   object\n",
      " 2   Cidade                                                                              1099 non-null   object\n",
      " 3   Estado                                                                              1099 non-null   object\n",
      " 4   Gênero                                                                              1099 non-null   object\n",
      " 5   Faixa etária                                                                        1099 non-null   object\n",
      " 6   Escola pública ou particular                                                        869 non-null    object\n",
      " 7   Escola                                                                              863 non-null    object\n",
      " 8   Escolaridade                                                                        1099 non-null   object\n",
      " 9   Renda familiar mensal                                                               1099 non-null   object\n",
      " 10  cor/raça/etnia                                                                      1099 non-null   object\n",
      " 11  Formato do curso                                                                    1099 non-null   object\n",
      " 12  Polo Presencial São Gonçalo dos Campos (BA) - Biblioteca Municipal Aníbal Pedreira  75 non-null     object\n",
      " 13  Polo Presencial São Gonçalo dos Campos (BA) - Colégio Mun. Agripina de L Pedreira   68 non-null     object\n",
      " 14  Polo Presencial Mogi Guaçu (SP) - CEGEP                                             81 non-null     object\n",
      " 15  Polo Presencial Belo Horizonte (MG) - Instituto BH Futuro                           64 non-null     object\n",
      " 16  Polo Presencial Camaçari (BA) - UFBA                                                59 non-null     object\n",
      " 17  Polo Presencial Camaçari (BA) - CIAT                                                36 non-null     object\n",
      " 18  Você possui alguma deficiência?                                                     1099 non-null   object\n",
      " 19  Como ficou sabendo do projeto?                                                      1099 non-null   object\n",
      " 20  Participante                                                                        1196 non-null   object\n",
      " 21  Pontuação %                                                                         1196 non-null   int64 \n",
      " 22  Pontuação pts                                                                       1196 non-null   int64 \n",
      " 23  Desenvolver a apresentação do seu jogo.                                             1196 non-null   int64 \n",
      " 24  Quiz: Projeto de jogo. Ganhe 200 pontos!                                            1196 non-null   int64 \n",
      " 25  Desafio: Meu mundo                                                                  1196 non-null   int64 \n",
      " 26  Criando seu jogo                                                                    1196 non-null   object\n",
      " 27  Agora é jogo!                                                                       1196 non-null   object\n",
      "dtypes: int64(5), object(23)\n",
      "memory usage: 271.0+ KB\n"
     ]
    }
   ],
   "source": [
    "alunos_modulo_Protótipo.info()"
   ]
  },
  {
   "cell_type": "code",
   "execution_count": 26,
   "id": "653b06ed",
   "metadata": {},
   "outputs": [],
   "source": [
    "alunos_mentora_sympla.to_excel(\"dados_relação_Alunos_mentora-e-sympla.xlsx\", index = False)\n",
    "# aluno_modulos.to_excel(\"dados_relação_Alunos_modulo.xlsx\", index = False)\n",
    "#####\n",
    "# Analise dos módulos \n",
    "# alunos_modulo_Conheça_a_criar_jogos.to_excel(\"dados_relação_Alunos_Conheça_a_criar_jogos.xlsx\", index = False)\n",
    "alunos_modulo_Alfabetização_Digital.to_excel(\"dados_relação_Alunos_Alfabetização_Digital.xlsx\", index = False)\n",
    "alunos_modulo_Cultura_de_Jogos.to_excel(\"dados_relação_Alunos_Cultura_de_Jogos.xlsx\", index = False)\n",
    "alunos_modulo_Roteiro_e_Narrativa.to_excel(\"dados_relação_Alunos_Roteiro_e_Narrativa.xlsx\", index = False)\n",
    "alunos_modulo_Programação.to_excel(\"dados_relação_Alunos_programacao.xlsx\", index = False)\n",
    "alunos_modulo_Edição_de_Som.to_excel(\"dados_relação_Alunos_Edição_de_Som.xlsx\", index = False)\n",
    "alunos_modulo_Game_Design.to_excel(\"dados_relação_Alunos_gameDesign.xlsx\", index = False)\n",
    "alunos_modulo_Protótipo.to_excel(\"dados_relação_Alunos_prototipo.xlsx\", index = False)\n",
    "alunos_modulo_Arte_e_Interface.to_excel(\"dados_relação_Alunos_Arte_e_Interface.xlsx\", index = False)\n",
    "alunos_modulo_Temporada_Ferias.to_excel(\"dados_relação_Aluno_Temporada_Ferias.xlsx\", index = False)"
   ]
  },
  {
   "cell_type": "markdown",
   "id": "b64f4ed0",
   "metadata": {},
   "source": [
    "__Tratamento da analise dos Pontos__"
   ]
  },
  {
   "cell_type": "code",
   "execution_count": null,
   "id": "35eb63f5",
   "metadata": {},
   "outputs": [],
   "source": [
    "alunos_modulo_Alfabetização_Digital = dados_sympla_corrigido.merge(modulo_Alfabetização_Digital,how = 'right', on = 'Email')\n",
    "alunos_modulo_Cultura_de_Jogos = dados_sympla_corrigido.merge(modulo_Cultura_de_Jogos,how = 'right', on = 'Email')\n",
    "alunos_modulo_Roteiro_e_Narrativa = dados_sympla_corrigido.merge(modulo_Roteiro_e_Narrativa,how = 'right', on = 'Email')\n",
    "alunos_modulo_Programação = dados_sympla_corrigido.merge(modulo_Programação,how = 'right', on = 'Email')\n",
    "alunos_modulo_Edição_de_Som = dados_sympla_corrigido.merge(modulo_Edição_de_Som,how = 'right', on = 'Email')\n",
    "alunos_modulo_Game_Design = dados_sympla_corrigido.merge(modulo_Game_Design,how = 'right', on = 'Email')\n",
    "alunos_modulo_Arte_e_Interface = dados_sympla_corrigido.merge(modulo_Arte_e_Interface,how = 'right', on = 'Email')\n",
    "alunos_modulo_Protótipo = dados_sympla_corrigido.merge(modulo_Protótipo,how = 'right', on = 'right')      "
   ]
  },
  {
   "cell_type": "code",
   "execution_count": null,
   "id": "e6ffcbbf",
   "metadata": {},
   "outputs": [],
   "source": [
    "alunos_modulo_Roteiro_e_Narrativa.info()"
   ]
  },
  {
   "cell_type": "code",
   "execution_count": null,
   "id": "8177d654",
   "metadata": {},
   "outputs": [],
   "source": [
    "alunos_modulo_Conheça_a_criar_jogos.head(1)"
   ]
  },
  {
   "cell_type": "code",
   "execution_count": null,
   "id": "256459f8",
   "metadata": {},
   "outputs": [],
   "source": [
    "aluno_modulos = modulo_alunos.groupby(['Email']).agg({\n",
    "    'Participante':'first',\n",
    "    'Email' :'first',\n",
    "    'Endereço' :'first', \n",
    "    'Cidade' :'first',\n",
    "    'Estado':'first',\n",
    "    'Gênero':'first',\n",
    "    'Escolaridade':'first',\n",
    "    'Formato do curso':'first',\n",
    "    'Pontuação do aluno':'first', \n",
    "    'Tempo de Curso (Meses)':'first',\n",
    "    \"Polo Presencial São Gonçalo dos Campos (BA) - Biblioteca Municipal Aníbal Pedreira\": 'first',\n",
    "    \"Polo Presencial São Gonçalo dos Campos (BA) - Colégio Mun. Agripina de L Pedreira\": 'first',\n",
    "    \"Polo Presencial Mogi Guaçu (SP) - CEGEP\": 'first',\n",
    "    \"Polo Presencial Belo Horizonte (MG) - Instituto BH Futuro\": 'first',\n",
    "    \"Polo Presencial Camaçari (BA) - UFBA\": 'first',\n",
    "    \"Polo Presencial Camaçari (BA) - CIAT\":'first',\n",
    "    'Pontuação pts' : 'sum' }).sort_values(by='Pontuação pts',ascending=False).drop_duplicates(subset=['Email'],keep='first')"
   ]
  },
  {
   "cell_type": "code",
   "execution_count": null,
   "id": "aa11c304",
   "metadata": {},
   "outputs": [],
   "source": [
    "aluno_modulos"
   ]
  },
  {
   "cell_type": "code",
   "execution_count": null,
   "id": "c991ffb3",
   "metadata": {},
   "outputs": [],
   "source": [
    "aluno_modulos"
   ]
  },
  {
   "cell_type": "markdown",
   "id": "4fb45a56",
   "metadata": {},
   "source": [
    "__Exportação dos dados (Formação Criar Jogos)__"
   ]
  },
  {
   "cell_type": "code",
   "execution_count": null,
   "id": "12fb69aa",
   "metadata": {},
   "outputs": [],
   "source": []
  },
  {
   "cell_type": "code",
   "execution_count": null,
   "id": "a7df9d20",
   "metadata": {},
   "outputs": [],
   "source": [
    "polo_bh = \"C:\\\\Users\\\\wesle\\\\Área de Trabalho\\\\VisaoCoop-CriarJogos\\\\Criar_Jogos_10-22\\\\Modulos_plataforma\""
   ]
  },
  {
   "cell_type": "code",
   "execution_count": null,
   "id": "2d27d963",
   "metadata": {},
   "outputs": [],
   "source": [
    "dados_modulos.groupby(by=[\"Participante\"]).sum().sort_values(by=\"Participante\")"
   ]
  }
 ],
 "metadata": {
  "kernelspec": {
   "display_name": "Python 3 (ipykernel)",
   "language": "python",
   "name": "python3"
  },
  "language_info": {
   "codemirror_mode": {
    "name": "ipython",
    "version": 3
   },
   "file_extension": ".py",
   "mimetype": "text/x-python",
   "name": "python",
   "nbconvert_exporter": "python",
   "pygments_lexer": "ipython3",
   "version": "3.9.13"
  }
 },
 "nbformat": 4,
 "nbformat_minor": 5
}
